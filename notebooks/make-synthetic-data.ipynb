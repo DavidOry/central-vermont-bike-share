{
 "cells": [
  {
   "cell_type": "markdown",
   "id": "395085f2",
   "metadata": {},
   "source": [
    "### Overhead"
   ]
  },
  {
   "cell_type": "code",
   "execution_count": 31,
   "id": "5b96d69c",
   "metadata": {},
   "outputs": [],
   "source": [
    "import pandas as pd\n",
    "import numpy as np\n",
    "from datetime import datetime, timedelta"
   ]
  },
  {
   "cell_type": "markdown",
   "id": "a7868dac",
   "metadata": {},
   "source": [
    "### Parameters"
   ]
  },
  {
   "cell_type": "code",
   "execution_count": 32,
   "id": "d6d8f50b",
   "metadata": {},
   "outputs": [],
   "source": [
    "INPUT_STATION_LOCATIONS_AND_ACTIVITY_FILE = 'data/input/station-locations-and-activity.csv'\n",
    "INPUT_DISTANCE_BETWEEN_STATIONS_FILE = 'data/input/distance-between-stations.csv'\n",
    "\n",
    "OUTPUT_TRIPS_FILE = 'data/output/synthetic-trips.csv'\n",
    "\n",
    "INTRAZONAL_TRIPS = 10\n",
    "MINIMUM_ADDITIONAL_DURATION_IN_MINUTES = 2\n",
    "MAXIMUM_ADDITIONAL_DURATION_IN_MINUTES = 120\n",
    "BIKE_SPEED_IN_KPH = 20\n",
    "INPUT_DATE = \"2025-06-15\""
   ]
  },
  {
   "cell_type": "markdown",
   "id": "cc324a9d",
   "metadata": {},
   "source": [
    "### Methods"
   ]
  },
  {
   "cell_type": "markdown",
   "id": "5630bc68",
   "metadata": {},
   "source": [
    "#### Read Methods"
   ]
  },
  {
   "cell_type": "code",
   "execution_count": 33,
   "id": "07363943",
   "metadata": {},
   "outputs": [],
   "source": [
    "def read_station_locations_and_activity(file_path):\n",
    "    return pd.read_csv(file_path)"
   ]
  },
  {
   "cell_type": "code",
   "execution_count": 34,
   "id": "0e0315a4",
   "metadata": {},
   "outputs": [],
   "source": [
    "def read_distance_between_stations(file_path):\n",
    "    return pd.read_csv(file_path)"
   ]
  },
  {
   "cell_type": "markdown",
   "id": "51bf0f97",
   "metadata": {},
   "source": [
    "#### Other Methods"
   ]
  },
  {
   "cell_type": "code",
   "execution_count": 35,
   "id": "4c46c060",
   "metadata": {},
   "outputs": [],
   "source": [
    "def apply_gravity_model(activity_df, distance_df, intrazonal_trips):\n",
    "    \"\"\"Applies a gravity model to estimate the number of trips between locations\"\"\"\n",
    "    # Create a matrix to store the estimated trips\n",
    "    trips_df = pd.DataFrame(index=activity_df['station_name'], columns=activity_df['station_name'])\n",
    "    \n",
    "    # Apply the gravity model\n",
    "    for i in activity_df.index:\n",
    "        for j in activity_df.index:\n",
    "            if i != j:\n",
    "                distance = distance_df[(distance_df['from'] == activity_df.loc[i, 'station_name']) & (distance_df['to'] == activity_df.loc[j, 'station_name'])]['distance_in_km'].values[0]\n",
    "                productions = activity_df.loc[i, 'daily_activity']\n",
    "                attractions = activity_df.loc[j, 'daily_activity']\n",
    "                trips_df.loc[activity_df.loc[i, 'station_name'], activity_df.loc[j, 'station_name']] = productions * attractions / (distance ** 2)\n",
    "            else:\n",
    "                trips_df.loc[activity_df.loc[i, 'station_name'], activity_df.loc[j, 'station_name']] = intrazonal_trips\n",
    "    \n",
    "    # Melt the matrix into a DataFrame\n",
    "    trips_df = trips_df.reset_index()\n",
    "    trips_df = pd.melt(trips_df, id_vars='station_name', value_vars=activity_df['station_name'], var_name='to', value_name='trips')\n",
    "    trips_df = trips_df.rename(columns={'station_name': 'from'})\n",
    "    \n",
    "    trips_df = trips_df[trips_df['trips'] > 0]\n",
    "\n",
    "    adjustment_factor = sum(activity_df['daily_activity']) / sum(trips_df['trips'])\n",
    "\n",
    "    trips_df['trips'] = trips_df['trips'] * adjustment_factor\n",
    "    \n",
    "    return trips_df"
   ]
  },
  {
   "cell_type": "code",
   "execution_count": 36,
   "id": "40dea12a",
   "metadata": {},
   "outputs": [],
   "source": [
    "def enumerate_trips(trips_df, date):\n",
    "    \"\"\"Enumerates the trips with their own time stamp\"\"\"\n",
    "    # Create a new DataFrame to store the enumerated trips\n",
    "    enumerated_trips_df = pd.DataFrame(columns=['start_station_name', 'end_station_name', 'start_date'])\n",
    "    \n",
    "    # Define the time ranges for each type of trip\n",
    "    time_ranges = {\n",
    "        'Spaulding High School': [(7, 9), (15, 19)],\n",
    "        'Montpelier High School': [(7, 9), (15, 19)],\n",
    "        'from_school': [(14.5, 18)],\n",
    "        'other': [(8, 19)]\n",
    "    }\n",
    "    \n",
    "    # Enumerate the trips\n",
    "    index = 0\n",
    "    for i in trips_df.index:\n",
    "        num_trips = int(trips_df.loc[i, 'trips'])\n",
    "        for _ in range(num_trips):\n",
    "            # Determine the time range based on the from and to stations\n",
    "            if trips_df.loc[i, 'from'] in time_ranges:\n",
    "                time_range = time_ranges[trips_df.loc[i, 'from']]\n",
    "            elif trips_df.loc[i, 'to'] in time_ranges:\n",
    "                time_range = time_ranges[trips_df.loc[i, 'to']]\n",
    "            elif trips_df.loc[i, 'from'] in ['Spaulding High School', 'Montpelier High School']:\n",
    "                time_range = time_ranges['from_school']\n",
    "            else:\n",
    "                time_range = time_ranges['other']\n",
    "            \n",
    "            # Draw a random time from the time range\n",
    "            start_time = datetime.strptime(f\"{date} {time_range[0][0]}:00\", \"%Y-%m-%d %H:%M\")\n",
    "            end_time = datetime.strptime(f\"{date} {time_range[0][1]}:00\", \"%Y-%m-%d %H:%M\")\n",
    "            time_stamp = start_time + timedelta(hours=np.random.uniform(0, (end_time - start_time).total_seconds() / 3600))\n",
    "            \n",
    "            # Add the trip to the enumerated trips DataFrame\n",
    "            enumerated_trips_df.loc[index] = [trips_df.loc[i, 'from'], trips_df.loc[i, 'to'], time_stamp]\n",
    "            index += 1\n",
    "    \n",
    "    return enumerated_trips_df"
   ]
  },
  {
   "cell_type": "code",
   "execution_count": 37,
   "id": "31c2c20d",
   "metadata": {},
   "outputs": [],
   "source": [
    "def add_duration(input_df):\n",
    "    \"\"\"Adds a duration column and computes the end time\"\"\"\n",
    "\n",
    "    input_df['duration'] = np.random.randint(\n",
    "        MINIMUM_ADDITIONAL_DURATION_IN_MINUTES, \n",
    "        MAXIMUM_ADDITIONAL_DURATION_IN_MINUTES + 1, \n",
    "        size=len(input_df)) + input_df['distance_in_km']/BIKE_SPEED_IN_KPH * 60\n",
    "    \n",
    "    # Compute the end time based on the depart time and duration\n",
    "    input_df['end_date'] = input_df.apply(lambda row: row['start_date'] + timedelta(minutes=row['duration']), axis=1)\n",
    "    \n",
    "    return input_df"
   ]
  },
  {
   "cell_type": "markdown",
   "id": "c6031930",
   "metadata": {},
   "source": [
    "### Apply Steps"
   ]
  },
  {
   "cell_type": "markdown",
   "id": "e23d20a0",
   "metadata": {},
   "source": [
    "#### Step 1: Read input files, apply gravity model, and enumerate trips"
   ]
  },
  {
   "cell_type": "code",
   "execution_count": 38,
   "id": "d0f61b1b",
   "metadata": {},
   "outputs": [],
   "source": [
    "activity_df = read_station_locations_and_activity(INPUT_STATION_LOCATIONS_AND_ACTIVITY_FILE)\n",
    "distance_df = read_distance_between_stations(INPUT_DISTANCE_BETWEEN_STATIONS_FILE)\n",
    "\n",
    "trips_df = apply_gravity_model(activity_df, distance_df, INTRAZONAL_TRIPS)\n",
    "enumerated_trips_df = enumerate_trips(trips_df, INPUT_DATE)\n"
   ]
  },
  {
   "cell_type": "code",
   "execution_count": 39,
   "id": "a1601f7a",
   "metadata": {},
   "outputs": [
    {
     "data": {
      "application/vnd.microsoft.datawrangler.viewer.v0+json": {
       "columns": [
        {
         "name": "index",
         "rawType": "int64",
         "type": "integer"
        },
        {
         "name": "start_station_name",
         "rawType": "object",
         "type": "string"
        },
        {
         "name": "end_station_name",
         "rawType": "object",
         "type": "string"
        },
        {
         "name": "start_date",
         "rawType": "datetime64[ns]",
         "type": "datetime"
        },
        {
         "name": "distance_in_km",
         "rawType": "float64",
         "type": "float"
        }
       ],
       "ref": "4e7b7d4d-be70-49b4-980c-735f75b31285",
       "rows": [
        [
         "0",
         "Corner of Main and State in Montpelier",
         "Kellogg-Hubbard Library in Montpelier",
         "2025-06-15 16:39:40.163865",
         "1.61"
        ],
        [
         "1",
         "Corner of Main and State in Montpelier",
         "Kellogg-Hubbard Library in Montpelier",
         "2025-06-15 16:50:19.020543",
         "1.61"
        ],
        [
         "2",
         "Corner of Main and State in Montpelier",
         "Kellogg-Hubbard Library in Montpelier",
         "2025-06-15 18:57:31.999224",
         "1.61"
        ],
        [
         "3",
         "Corner of Main and State in Montpelier",
         "Kellogg-Hubbard Library in Montpelier",
         "2025-06-15 14:15:05.906426",
         "1.61"
        ],
        [
         "4",
         "Corner of Main and State in Montpelier",
         "Kellogg-Hubbard Library in Montpelier",
         "2025-06-15 10:58:59.540547",
         "1.61"
        ]
       ],
       "shape": {
        "columns": 4,
        "rows": 5
       }
      },
      "text/html": [
       "<div>\n",
       "<style scoped>\n",
       "    .dataframe tbody tr th:only-of-type {\n",
       "        vertical-align: middle;\n",
       "    }\n",
       "\n",
       "    .dataframe tbody tr th {\n",
       "        vertical-align: top;\n",
       "    }\n",
       "\n",
       "    .dataframe thead th {\n",
       "        text-align: right;\n",
       "    }\n",
       "</style>\n",
       "<table border=\"1\" class=\"dataframe\">\n",
       "  <thead>\n",
       "    <tr style=\"text-align: right;\">\n",
       "      <th></th>\n",
       "      <th>start_station_name</th>\n",
       "      <th>end_station_name</th>\n",
       "      <th>start_date</th>\n",
       "      <th>distance_in_km</th>\n",
       "    </tr>\n",
       "  </thead>\n",
       "  <tbody>\n",
       "    <tr>\n",
       "      <th>0</th>\n",
       "      <td>Corner of Main and State in Montpelier</td>\n",
       "      <td>Kellogg-Hubbard Library in Montpelier</td>\n",
       "      <td>2025-06-15 16:39:40.163865</td>\n",
       "      <td>1.61</td>\n",
       "    </tr>\n",
       "    <tr>\n",
       "      <th>1</th>\n",
       "      <td>Corner of Main and State in Montpelier</td>\n",
       "      <td>Kellogg-Hubbard Library in Montpelier</td>\n",
       "      <td>2025-06-15 16:50:19.020543</td>\n",
       "      <td>1.61</td>\n",
       "    </tr>\n",
       "    <tr>\n",
       "      <th>2</th>\n",
       "      <td>Corner of Main and State in Montpelier</td>\n",
       "      <td>Kellogg-Hubbard Library in Montpelier</td>\n",
       "      <td>2025-06-15 18:57:31.999224</td>\n",
       "      <td>1.61</td>\n",
       "    </tr>\n",
       "    <tr>\n",
       "      <th>3</th>\n",
       "      <td>Corner of Main and State in Montpelier</td>\n",
       "      <td>Kellogg-Hubbard Library in Montpelier</td>\n",
       "      <td>2025-06-15 14:15:05.906426</td>\n",
       "      <td>1.61</td>\n",
       "    </tr>\n",
       "    <tr>\n",
       "      <th>4</th>\n",
       "      <td>Corner of Main and State in Montpelier</td>\n",
       "      <td>Kellogg-Hubbard Library in Montpelier</td>\n",
       "      <td>2025-06-15 10:58:59.540547</td>\n",
       "      <td>1.61</td>\n",
       "    </tr>\n",
       "  </tbody>\n",
       "</table>\n",
       "</div>"
      ],
      "text/plain": [
       "                       start_station_name  \\\n",
       "0  Corner of Main and State in Montpelier   \n",
       "1  Corner of Main and State in Montpelier   \n",
       "2  Corner of Main and State in Montpelier   \n",
       "3  Corner of Main and State in Montpelier   \n",
       "4  Corner of Main and State in Montpelier   \n",
       "\n",
       "                        end_station_name                 start_date  \\\n",
       "0  Kellogg-Hubbard Library in Montpelier 2025-06-15 16:39:40.163865   \n",
       "1  Kellogg-Hubbard Library in Montpelier 2025-06-15 16:50:19.020543   \n",
       "2  Kellogg-Hubbard Library in Montpelier 2025-06-15 18:57:31.999224   \n",
       "3  Kellogg-Hubbard Library in Montpelier 2025-06-15 14:15:05.906426   \n",
       "4  Kellogg-Hubbard Library in Montpelier 2025-06-15 10:58:59.540547   \n",
       "\n",
       "   distance_in_km  \n",
       "0            1.61  \n",
       "1            1.61  \n",
       "2            1.61  \n",
       "3            1.61  \n",
       "4            1.61  "
      ]
     },
     "execution_count": 39,
     "metadata": {},
     "output_type": "execute_result"
    }
   ],
   "source": [
    "enumerated_trips_df = pd.merge(\n",
    "    enumerated_trips_df,\n",
    "    distance_df[['from', 'to', 'distance_in_km']],\n",
    "    left_on=['start_station_name', 'end_station_name'],\n",
    "    right_on=['from', 'to'],\n",
    "    how='left'\n",
    ").drop(['from', 'to'], axis=1)\n",
    "\n",
    "enumerated_trips_df.head()"
   ]
  },
  {
   "cell_type": "markdown",
   "id": "77db3056",
   "metadata": {},
   "source": [
    "#### Step 2: Estimate duration"
   ]
  },
  {
   "cell_type": "code",
   "execution_count": 40,
   "id": "04e999ee",
   "metadata": {},
   "outputs": [],
   "source": [
    "enumerated_trips_df = add_duration(enumerated_trips_df)"
   ]
  },
  {
   "cell_type": "markdown",
   "id": "7c18e329",
   "metadata": {},
   "source": [
    "#### Step 3: Tidy up with `station_id`"
   ]
  },
  {
   "cell_type": "code",
   "execution_count": 41,
   "id": "b38b45d5",
   "metadata": {},
   "outputs": [
    {
     "data": {
      "application/vnd.microsoft.datawrangler.viewer.v0+json": {
       "columns": [
        {
         "name": "index",
         "rawType": "int64",
         "type": "integer"
        },
        {
         "name": "start_station_name",
         "rawType": "object",
         "type": "string"
        },
        {
         "name": "end_station_name",
         "rawType": "object",
         "type": "string"
        },
        {
         "name": "start_date",
         "rawType": "datetime64[ns]",
         "type": "datetime"
        },
        {
         "name": "distance_in_km",
         "rawType": "float64",
         "type": "float"
        },
        {
         "name": "duration",
         "rawType": "float64",
         "type": "float"
        },
        {
         "name": "end_date",
         "rawType": "datetime64[ns]",
         "type": "datetime"
        },
        {
         "name": "start_station_id",
         "rawType": "int64",
         "type": "integer"
        },
        {
         "name": "end_station_id",
         "rawType": "int64",
         "type": "integer"
        },
        {
         "name": "trip_id",
         "rawType": "int64",
         "type": "integer"
        }
       ],
       "ref": "0bf9b5b7-ab94-45b4-9bc6-9f7ee4a78a56",
       "rows": [
        [
         "0",
         "Corner of Main and State in Montpelier",
         "Kellogg-Hubbard Library in Montpelier",
         "2025-06-15 16:39:40.163865",
         "1.61",
         "111.83",
         "2025-06-15 18:31:29.963865",
         "2",
         "1",
         "1"
        ],
        [
         "1",
         "Corner of Main and State in Montpelier",
         "Kellogg-Hubbard Library in Montpelier",
         "2025-06-15 16:50:19.020543",
         "1.61",
         "18.83",
         "2025-06-15 17:09:08.820543",
         "2",
         "1",
         "2"
        ],
        [
         "2",
         "Corner of Main and State in Montpelier",
         "Kellogg-Hubbard Library in Montpelier",
         "2025-06-15 18:57:31.999224",
         "1.61",
         "114.83",
         "2025-06-15 20:52:21.799224",
         "2",
         "1",
         "3"
        ],
        [
         "3",
         "Corner of Main and State in Montpelier",
         "Kellogg-Hubbard Library in Montpelier",
         "2025-06-15 14:15:05.906426",
         "1.61",
         "31.83",
         "2025-06-15 14:46:55.706426",
         "2",
         "1",
         "4"
        ],
        [
         "4",
         "Corner of Main and State in Montpelier",
         "Kellogg-Hubbard Library in Montpelier",
         "2025-06-15 10:58:59.540547",
         "1.61",
         "40.83",
         "2025-06-15 11:39:49.340547",
         "2",
         "1",
         "5"
        ]
       ],
       "shape": {
        "columns": 9,
        "rows": 5
       }
      },
      "text/html": [
       "<div>\n",
       "<style scoped>\n",
       "    .dataframe tbody tr th:only-of-type {\n",
       "        vertical-align: middle;\n",
       "    }\n",
       "\n",
       "    .dataframe tbody tr th {\n",
       "        vertical-align: top;\n",
       "    }\n",
       "\n",
       "    .dataframe thead th {\n",
       "        text-align: right;\n",
       "    }\n",
       "</style>\n",
       "<table border=\"1\" class=\"dataframe\">\n",
       "  <thead>\n",
       "    <tr style=\"text-align: right;\">\n",
       "      <th></th>\n",
       "      <th>start_station_name</th>\n",
       "      <th>end_station_name</th>\n",
       "      <th>start_date</th>\n",
       "      <th>distance_in_km</th>\n",
       "      <th>duration</th>\n",
       "      <th>end_date</th>\n",
       "      <th>start_station_id</th>\n",
       "      <th>end_station_id</th>\n",
       "      <th>trip_id</th>\n",
       "    </tr>\n",
       "  </thead>\n",
       "  <tbody>\n",
       "    <tr>\n",
       "      <th>0</th>\n",
       "      <td>Corner of Main and State in Montpelier</td>\n",
       "      <td>Kellogg-Hubbard Library in Montpelier</td>\n",
       "      <td>2025-06-15 16:39:40.163865</td>\n",
       "      <td>1.61</td>\n",
       "      <td>111.83</td>\n",
       "      <td>2025-06-15 18:31:29.963865</td>\n",
       "      <td>2</td>\n",
       "      <td>1</td>\n",
       "      <td>1</td>\n",
       "    </tr>\n",
       "    <tr>\n",
       "      <th>1</th>\n",
       "      <td>Corner of Main and State in Montpelier</td>\n",
       "      <td>Kellogg-Hubbard Library in Montpelier</td>\n",
       "      <td>2025-06-15 16:50:19.020543</td>\n",
       "      <td>1.61</td>\n",
       "      <td>18.83</td>\n",
       "      <td>2025-06-15 17:09:08.820543</td>\n",
       "      <td>2</td>\n",
       "      <td>1</td>\n",
       "      <td>2</td>\n",
       "    </tr>\n",
       "    <tr>\n",
       "      <th>2</th>\n",
       "      <td>Corner of Main and State in Montpelier</td>\n",
       "      <td>Kellogg-Hubbard Library in Montpelier</td>\n",
       "      <td>2025-06-15 18:57:31.999224</td>\n",
       "      <td>1.61</td>\n",
       "      <td>114.83</td>\n",
       "      <td>2025-06-15 20:52:21.799224</td>\n",
       "      <td>2</td>\n",
       "      <td>1</td>\n",
       "      <td>3</td>\n",
       "    </tr>\n",
       "    <tr>\n",
       "      <th>3</th>\n",
       "      <td>Corner of Main and State in Montpelier</td>\n",
       "      <td>Kellogg-Hubbard Library in Montpelier</td>\n",
       "      <td>2025-06-15 14:15:05.906426</td>\n",
       "      <td>1.61</td>\n",
       "      <td>31.83</td>\n",
       "      <td>2025-06-15 14:46:55.706426</td>\n",
       "      <td>2</td>\n",
       "      <td>1</td>\n",
       "      <td>4</td>\n",
       "    </tr>\n",
       "    <tr>\n",
       "      <th>4</th>\n",
       "      <td>Corner of Main and State in Montpelier</td>\n",
       "      <td>Kellogg-Hubbard Library in Montpelier</td>\n",
       "      <td>2025-06-15 10:58:59.540547</td>\n",
       "      <td>1.61</td>\n",
       "      <td>40.83</td>\n",
       "      <td>2025-06-15 11:39:49.340547</td>\n",
       "      <td>2</td>\n",
       "      <td>1</td>\n",
       "      <td>5</td>\n",
       "    </tr>\n",
       "  </tbody>\n",
       "</table>\n",
       "</div>"
      ],
      "text/plain": [
       "                       start_station_name  \\\n",
       "0  Corner of Main and State in Montpelier   \n",
       "1  Corner of Main and State in Montpelier   \n",
       "2  Corner of Main and State in Montpelier   \n",
       "3  Corner of Main and State in Montpelier   \n",
       "4  Corner of Main and State in Montpelier   \n",
       "\n",
       "                        end_station_name                 start_date  \\\n",
       "0  Kellogg-Hubbard Library in Montpelier 2025-06-15 16:39:40.163865   \n",
       "1  Kellogg-Hubbard Library in Montpelier 2025-06-15 16:50:19.020543   \n",
       "2  Kellogg-Hubbard Library in Montpelier 2025-06-15 18:57:31.999224   \n",
       "3  Kellogg-Hubbard Library in Montpelier 2025-06-15 14:15:05.906426   \n",
       "4  Kellogg-Hubbard Library in Montpelier 2025-06-15 10:58:59.540547   \n",
       "\n",
       "   distance_in_km  duration                   end_date  start_station_id  \\\n",
       "0            1.61    111.83 2025-06-15 18:31:29.963865                 2   \n",
       "1            1.61     18.83 2025-06-15 17:09:08.820543                 2   \n",
       "2            1.61    114.83 2025-06-15 20:52:21.799224                 2   \n",
       "3            1.61     31.83 2025-06-15 14:46:55.706426                 2   \n",
       "4            1.61     40.83 2025-06-15 11:39:49.340547                 2   \n",
       "\n",
       "   end_station_id  trip_id  \n",
       "0               1        1  \n",
       "1               1        2  \n",
       "2               1        3  \n",
       "3               1        4  \n",
       "4               1        5  "
      ]
     },
     "execution_count": 41,
     "metadata": {},
     "output_type": "execute_result"
    }
   ],
   "source": [
    "output_trips_df = pd.merge(\n",
    "    enumerated_trips_df,\n",
    "    activity_df[['station_name', 'station_id']],\n",
    "    left_on='start_station_name',\n",
    "    right_on='station_name',\n",
    "    how='left'\n",
    ").rename(columns={'station_id': 'start_station_id'}).drop('station_name', axis=1)\n",
    "\n",
    "output_trips_df = pd.merge(\n",
    "    output_trips_df,\n",
    "    activity_df[['station_name', 'station_id']],\n",
    "    left_on='end_station_name',\n",
    "    right_on='station_name',\n",
    "    how='left'\n",
    ").rename(columns={'station_id': 'end_station_id'}).drop('station_name', axis=1)\n",
    "\n",
    "output_trips_df['trip_id'] = output_trips_df.index + 1\n",
    "\n",
    "output_trips_df.head()"
   ]
  },
  {
   "cell_type": "markdown",
   "id": "aabb25cd",
   "metadata": {},
   "source": [
    "#### Step 4: Write to disk"
   ]
  },
  {
   "cell_type": "code",
   "execution_count": 42,
   "id": "4947a3f2",
   "metadata": {},
   "outputs": [],
   "source": [
    "output_trips_df[['trip_id',\n",
    "                 'start_station_id',\n",
    "                 'start_station_name',\n",
    "                 'start_date',\n",
    "                 'end_station_id',\n",
    "                 'end_station_name',\n",
    "                 'end_date']].to_csv(OUTPUT_TRIPS_FILE, index=False)"
   ]
  }
 ],
 "metadata": {
  "kernelspec": {
   "display_name": "Python 3 (ipykernel)",
   "language": "python",
   "name": "python3"
  },
  "language_info": {
   "codemirror_mode": {
    "name": "ipython",
    "version": 3
   },
   "file_extension": ".py",
   "mimetype": "text/x-python",
   "name": "python",
   "nbconvert_exporter": "python",
   "pygments_lexer": "ipython3",
   "version": "3.13.3"
  }
 },
 "nbformat": 4,
 "nbformat_minor": 5
}
